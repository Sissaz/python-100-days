{
 "cells": [
  {
   "cell_type": "code",
   "execution_count": 6,
   "metadata": {},
   "outputs": [
    {
     "name": "stdout",
     "output_type": "stream",
     "text": [
      "+\n",
      "-\n",
      "*\n",
      "/\n",
      "1.0 + 4.5 = 5.5\n",
      "5.5 / 2.0 = 2.75\n",
      "+\n",
      "-\n",
      "*\n",
      "/\n",
      "1.0 / 3.0 = 0.3333333333333333\n",
      "+\n",
      "-\n",
      "*\n",
      "/\n",
      "5.0 * 8.0 = 40.0\n",
      "See ya!!\n"
     ]
    }
   ],
   "source": [
    "# Calculator\n",
    "\n",
    "\n",
    "# Add\n",
    "def add(n1, n2):\n",
    "\t\"\"\"Add\"\"\"\n",
    "\treturn n1 + n2\n",
    "\n",
    "# Subtract\n",
    "def subtract(n1, n2):\n",
    "\t\"\"\"Subtract\"\"\"\n",
    "\treturn n1 - n2\n",
    "\n",
    "# Multiply\n",
    "def multiply(n1, n2):\n",
    "\t\"\"\"Multiply\"\"\"\n",
    "\treturn n1 * n2\n",
    "\n",
    "# Divide\n",
    "def divide(n1, n2):\n",
    "\t\"\"\"Divide\"\"\"\n",
    "\treturn n1 / n2\n",
    "\n",
    "# Dictionary\n",
    "\n",
    "operations = {\n",
    "\t\"+\":add, \n",
    "\t\"-\":subtract, \n",
    "\t\"*\":multiply, \n",
    "\t\"/\": divide,\n",
    "}\n",
    "\n",
    "def calculator():\n",
    "\t\n",
    "\tnum1 = float(input(\"What's the first number? \"))\n",
    "\t\n",
    "\tfor symbol in operations:\n",
    "\t\tprint(symbol)\n",
    "\t\n",
    "\tcontinuar = True\n",
    "\t\n",
    "\twhile continuar:\n",
    "\t\t\n",
    "\t\toperation_symbol = input(\"Pick an operation from the line above: \")\n",
    "\t\n",
    "\t\tnum2 = float(input(\"What's the next number? \"))\n",
    "\t\n",
    "\t\tcalculation = operations[operation_symbol]\n",
    "\t\n",
    "\t\tanswer = calculation(num1, num2)\n",
    "\t\n",
    "\t\tprint(f\"{num1} {operation_symbol} {num2} = {answer}\")\n",
    "\t\n",
    "\t\toperacao = input(f\"Type 'y' to continue calculating with {answer}, type 'n' to start a new calculation or type 'e' to exit.: \")\n",
    "\t\tif operacao == 'y':\n",
    "\t\t\tnum1 = answer\n",
    "\t\telif operacao == 'n':\n",
    "\t\t\tcontinuar = False\n",
    "\t\t\tcalculator()\n",
    "\t\telif operacao == 'e':\n",
    "\t\t\tcontinuar = False\n",
    "\t\t\tprint(\"See ya!!\")\n",
    "\t\t\n",
    "\n",
    "calculator()\t\t\t"
   ]
  }
 ],
 "metadata": {
  "interpreter": {
   "hash": "88279d2366fe020547cde40dd65aa0e3aa662a6ec1f3ca12d88834876c85e1a6"
  },
  "kernelspec": {
   "display_name": "Python 3.9.7 ('base')",
   "language": "python",
   "name": "python3"
  },
  "language_info": {
   "codemirror_mode": {
    "name": "ipython",
    "version": 3
   },
   "file_extension": ".py",
   "mimetype": "text/x-python",
   "name": "python",
   "nbconvert_exporter": "python",
   "pygments_lexer": "ipython3",
   "version": "3.9.7"
  },
  "orig_nbformat": 4
 },
 "nbformat": 4,
 "nbformat_minor": 2
}
