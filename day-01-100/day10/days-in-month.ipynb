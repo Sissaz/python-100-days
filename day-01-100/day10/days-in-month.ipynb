{
 "cells": [
  {
   "cell_type": "code",
   "execution_count": 53,
   "metadata": {},
   "outputs": [],
   "source": [
    "# Days in Month"
   ]
  },
  {
   "cell_type": "code",
   "execution_count": 54,
   "metadata": {},
   "outputs": [],
   "source": [
    "# Instructions\n",
    "\n",
    "# In the starting code, you'll find the solution from the Leap Year challenge. First, convert this function `is_leap()` so that instead of printing \"Leap year.\" or \"Not leap year.\" it should **return** `True` if it is a leap year and **return** `False` if it is not a leap year.\n",
    "\n",
    "# You are then going to create a function called `days_in_month()` which will take a **year** and a **month** as inputs, e.g.\n",
    "\n",
    "# ```\n",
    "# days_in_month(year=2022, month=2)\n",
    "# ```\n",
    "\n",
    "# And it will use this information to work out the **number of days in the month**, then **return** that as the **output**, **e.g.:**\n",
    "\n",
    "# ```\n",
    "# 28\n",
    "# ```\n",
    "\n",
    "# The List month_days contains the number of days in a month from January to December for a non-leap year. A leap year has 29 days in February."
   ]
  },
  {
   "cell_type": "code",
   "execution_count": 55,
   "metadata": {},
   "outputs": [
    {
     "name": "stdout",
     "output_type": "stream",
     "text": [
      "Days in Month 📅/ Dias no Mês 📅\n"
     ]
    }
   ],
   "source": [
    "print(\"Days in Month 📅/ Dias no Mês 📅\")\n",
    "\n",
    "leitura = False"
   ]
  },
  {
   "cell_type": "code",
   "execution_count": 56,
   "metadata": {},
   "outputs": [],
   "source": [
    "mesesDI = {1: \"January\", 2: \"February\", 3: \"March\", 4: \"April\", 5: \"May\", 6: \"June\", 7: \"July\", 8: \"August\", 9: \"September\", 10: \"October\", 11: \"November\", 12: \"December\"}\n",
    "\n",
    "mesesDP = {1: \"Janeiro\", 2: \"Fevereiro\", 3: \"Março\", 4: \"Abril\", 5: \"Maio\", 6: \"Junho\", 7: \"Julho\", 8: \"Agosto\", 9: \"Setembro\", 10: \"Outubro\", 11: \"Novembro\", 12: \"Dezembro\"}"
   ]
  },
  {
   "cell_type": "code",
   "execution_count": 57,
   "metadata": {},
   "outputs": [],
   "source": [
    "def is_leap(year):\n",
    "  if year % 4 == 0:\n",
    "    if year % 100 == 0:\n",
    "      if year % 400 == 0:\n",
    "        return True\n",
    "      else:\n",
    "        return False\n",
    "    else:\n",
    "      return True\n",
    "  else:\n",
    "    return False"
   ]
  },
  {
   "cell_type": "code",
   "execution_count": 58,
   "metadata": {},
   "outputs": [],
   "source": [
    "def days_in_month(year, month):\n",
    "\tif month > 12 or month < 1:\n",
    "\t\treturn \"Invalid month\"\n",
    "\tmonth_days = [31, 28, 31, 30, 31, 30, 31, 31, 30, 31, 30, 31]\n",
    "\tif is_leap(year) and month == 2:\n",
    "\t\treturn 29\n",
    "\t\n",
    "\treturn month_days[month - 1]"
   ]
  },
  {
   "cell_type": "code",
   "execution_count": 59,
   "metadata": {},
   "outputs": [
    {
     "name": "stdout",
     "output_type": "stream",
     "text": [
      "Days in Month 📅/ Dias no Mês 📅\n"
     ]
    }
   ],
   "source": [
    "print(\"Days in Month 📅/ Dias no Mês 📅\")"
   ]
  },
  {
   "cell_type": "code",
   "execution_count": 60,
   "metadata": {},
   "outputs": [
    {
     "name": "stdout",
     "output_type": "stream",
     "text": [
      "Fevereiro tem 28 dias.\n",
      "April has 30 days.\n",
      "Junho tem 30 dias.\n",
      "Até mais! 😺\n"
     ]
    }
   ],
   "source": [
    "while not leitura:\n",
    "\n",
    "\n",
    "\tidioma = int(input(\"Press 1 for English / Pressione 2 para Português: \\n\"))\n",
    "\n",
    "\tif idioma == 1:\n",
    "\t\tyear = int(input(\"Enter a Year: \\n\"))\n",
    "\t\tmonth = int(input(\"Enter a Month in m: \\n\"))\n",
    "\t\tdays = days_in_month(year, month)\n",
    "\t\tmonth = mesesDI[int(month)]\n",
    "\t\tprint(f\"{month} has {days} days.\")\n",
    "\n",
    "\t\tcontinuar = input(\"Do you want to go again? Type 'yes' or 'no': \\n\")\n",
    "\t\tif continuar == \"no\":\n",
    "\t\t\tleitura = True\n",
    "\t\t\tprint(\"See you later! 😺\")\n",
    "\t\n",
    "\telif idioma == 2:\n",
    "\t\tyear = int(input(\"Digite o Ano no formato year: \\n\"))\n",
    "\t\tmonth = int(input(\"Digite o Mês no formato m: \\n\"))\n",
    "\t\tdays = days_in_month(year, month)\n",
    "\t\tmonth = mesesDP[int(month)]\n",
    "\t\tprint(f\"{month} tem {days} dias.\")\n",
    "\n",
    "\t\tcontinuar = input(\"Refazer a leitura? Digite 'sim' ou 'não': \\n\")\n",
    "\t\tif continuar == \"não\":\n",
    "\t\t\tleitura = True\n",
    "\t\t\tprint(\"Até mais! 😺\")"
   ]
  }
 ],
 "metadata": {
  "interpreter": {
   "hash": "88279d2366fe020547cde40dd65aa0e3aa662a6ec1f3ca12d88834876c85e1a6"
  },
  "kernelspec": {
   "display_name": "Python 3.9.7 ('base')",
   "language": "python",
   "name": "python3"
  },
  "language_info": {
   "codemirror_mode": {
    "name": "ipython",
    "version": 3
   },
   "file_extension": ".py",
   "mimetype": "text/x-python",
   "name": "python",
   "nbconvert_exporter": "python",
   "pygments_lexer": "ipython3",
   "version": "3.9.7"
  },
  "orig_nbformat": 4
 },
 "nbformat": 4,
 "nbformat_minor": 2
}
