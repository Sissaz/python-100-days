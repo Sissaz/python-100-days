{
 "cells": [
  {
   "cell_type": "code",
   "execution_count": 1,
   "metadata": {},
   "outputs": [],
   "source": [
    "# Functions with Outputs"
   ]
  },
  {
   "cell_type": "code",
   "execution_count": 4,
   "metadata": {},
   "outputs": [
    {
     "data": {
      "text/plain": [
       "6"
      ]
     },
     "execution_count": 4,
     "metadata": {},
     "output_type": "execute_result"
    }
   ],
   "source": [
    "def my_function():\n",
    "    result = 3 * 2\n",
    "    return result\n",
    "my_function()"
   ]
  },
  {
   "cell_type": "code",
   "execution_count": 10,
   "metadata": {},
   "outputs": [],
   "source": [
    "def my_function():\n",
    "    return 3 * 2\n",
    "\n",
    "output = my_function()"
   ]
  },
  {
   "cell_type": "code",
   "execution_count": 11,
   "metadata": {},
   "outputs": [
    {
     "name": "stdout",
     "output_type": "stream",
     "text": [
      "6\n"
     ]
    }
   ],
   "source": [
    "print(f\"{output}\")"
   ]
  },
  {
   "cell_type": "code",
   "execution_count": 13,
   "metadata": {},
   "outputs": [
    {
     "name": "stdout",
     "output_type": "stream",
     "text": [
      "Giacomazza, Sicilia\n"
     ]
    }
   ],
   "source": [
    "def format_name():\n",
    "\n",
    "\tf_name = input(\"White your First Name: \")\n",
    "\tl_name = input(\"White your Last Name: \")\n",
    "\tprint(f\"{l_name}, {f_name}\")\n",
    "\t\n",
    "format_name()"
   ]
  },
  {
   "cell_type": "code",
   "execution_count": 14,
   "metadata": {},
   "outputs": [
    {
     "name": "stdout",
     "output_type": "stream",
     "text": [
      "Giacomazza, Sicilia\n"
     ]
    }
   ],
   "source": [
    "def format_name():\n",
    "\n",
    "\tf_name = input(\"White your First Name: \")\n",
    "\tl_name = input(\"White your Last Name: \")\n",
    "\tprint(f\"{l_name.title()}, {f_name.title()}\")\n",
    "\t\n",
    "format_name()"
   ]
  },
  {
   "cell_type": "code",
   "execution_count": 15,
   "metadata": {},
   "outputs": [
    {
     "name": "stdout",
     "output_type": "stream",
     "text": [
      "Sicilia\n",
      "Sicilia\n"
     ]
    }
   ],
   "source": [
    "def format_name(f_name, l_name\n",
    "):\n",
    "\tprint(f\"{f_name.title()}\")\n",
    "\tprint(f\"{l_name.title()}\")\n",
    "\t\n",
    "format_name(\"sicilia\", \"SICILIA\")"
   ]
  },
  {
   "cell_type": "code",
   "execution_count": 16,
   "metadata": {},
   "outputs": [
    {
     "name": "stdout",
     "output_type": "stream",
     "text": [
      "Sicilia Giacomazza\n"
     ]
    }
   ],
   "source": [
    "def format_name(f_name, l_name\n",
    "):\n",
    "\tformated_f_name = f_name.title()\n",
    "\tformated_l_name = l_name.title()\n",
    "\tprint(f\"{formated_f_name} {formated_l_name}\")\n",
    "\t\n",
    "format_name(\"SiciLia\", \"GiacoMaZZa\")"
   ]
  },
  {
   "cell_type": "code",
   "execution_count": 17,
   "metadata": {},
   "outputs": [
    {
     "name": "stdout",
     "output_type": "stream",
     "text": [
      "Sicilia Giacomazza\n"
     ]
    }
   ],
   "source": [
    "def format_name(f_name, l_name\n",
    "):\n",
    "\tformated_f_name = f_name.title()\n",
    "\tformated_l_name = l_name.title()\n",
    "\treturn f\"{formated_f_name} {formated_l_name}\"\n",
    "\t\n",
    "formated_string = format_name(\"SiciLia\", \"GiacoMaZZa\")\n",
    "print(formated_string)"
   ]
  }
 ],
 "metadata": {
  "interpreter": {
   "hash": "88279d2366fe020547cde40dd65aa0e3aa662a6ec1f3ca12d88834876c85e1a6"
  },
  "kernelspec": {
   "display_name": "Python 3.9.7 ('base')",
   "language": "python",
   "name": "python3"
  },
  "language_info": {
   "codemirror_mode": {
    "name": "ipython",
    "version": 3
   },
   "file_extension": ".py",
   "mimetype": "text/x-python",
   "name": "python",
   "nbconvert_exporter": "python",
   "pygments_lexer": "ipython3",
   "version": "3.9.7"
  },
  "orig_nbformat": 4
 },
 "nbformat": 4,
 "nbformat_minor": 2
}
