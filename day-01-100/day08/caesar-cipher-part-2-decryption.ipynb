{
 "cells": [
  {
   "cell_type": "code",
   "execution_count": 18,
   "metadata": {},
   "outputs": [],
   "source": [
    "alphabet = ['a', 'b', 'c', 'd', 'e', 'f', 'g', 'h', 'i', 'j', 'k', 'l', 'm', 'n', 'o', 'p', 'q', 'r', 's', 't', 'u', 'v', 'w', 'x', 'y', 'z', 'a', 'b', 'c', 'd', 'e', 'f', 'g', 'h', 'i', 'j', 'k', 'l', 'm', 'n', 'o', 'p', 'q', 'r', 's', 't', 'u', 'v', 'w', 'x', 'y', 'z']\n",
    "\n",
    "direction = input(\"Type 'encode' to encrypt, type 'decode' to decrypt:\\n\")\n",
    "text = input(\"Type your message:\\n\").lower()\n",
    "shift = int(input(\"Type the shift number:\\n\"))\n",
    "\n",
    "def encrypt(plain_text, shift_amount):\n",
    "  cipher_text = \"\"\n",
    "  for letter in plain_text:\n",
    "    position = alphabet.index(letter)\n",
    "    new_position = position + shift_amount\n",
    "    cipher_text += alphabet[new_position]\n",
    "  print(f\"The encoded text is {cipher_text}\")"
   ]
  },
  {
   "cell_type": "code",
   "execution_count": 19,
   "metadata": {},
   "outputs": [],
   "source": [
    "#TODO-1: Create a different function called 'decrypt' that takes the 'text' and 'shift' as inputs.\n",
    " #TODO-2: Inside the 'decrypt' function, shift each letter of the 'text' *backwards* in the alphabet by the shift amount and print the decrypted text.  \n",
    "  #e.g. \n",
    "  #cipher_text = \"mjqqt\"\n",
    "  #shift = 5\n",
    "  #plain_text = \"hello\"\n",
    "  #print output: \"The decoded text is hello\""
   ]
  },
  {
   "cell_type": "code",
   "execution_count": 20,
   "metadata": {},
   "outputs": [],
   "source": [
    "def decrypt(cipher_text, shift_amount):\n",
    "    plain_text = \"\"\n",
    "    for letter in cipher_text:\n",
    "        position = alphabet.index(letter)\n",
    "        new_position = position - shift_amount\n",
    "        plain_text += alphabet[new_position]\n",
    "    print(f\"The decoded text is {plain_text}\")"
   ]
  },
  {
   "cell_type": "code",
   "execution_count": 21,
   "metadata": {},
   "outputs": [
    {
     "name": "stdout",
     "output_type": "stream",
     "text": [
      "The decoded text is hello\n"
     ]
    }
   ],
   "source": [
    "#TODO-3: Check if the user wanted to encrypt or decrypt the message by checking the 'direction' variable. Then call the correct function based on that 'drection' variable. You should be able to test the code to encrypt *AND* decrypt a message.\n",
    "if direction == \"encode\":\n",
    "    encrypt(plain_text=text, shift_amount=shift)\n",
    "elif direction == \"decode\":\n",
    "    decrypt(cipher_text=text, shift_amount=shift)"
   ]
  }
 ],
 "metadata": {
  "interpreter": {
   "hash": "88279d2366fe020547cde40dd65aa0e3aa662a6ec1f3ca12d88834876c85e1a6"
  },
  "kernelspec": {
   "display_name": "Python 3.9.7 ('base')",
   "language": "python",
   "name": "python3"
  },
  "language_info": {
   "codemirror_mode": {
    "name": "ipython",
    "version": 3
   },
   "file_extension": ".py",
   "mimetype": "text/x-python",
   "name": "python",
   "nbconvert_exporter": "python",
   "pygments_lexer": "ipython3",
   "version": "3.9.7"
  },
  "orig_nbformat": 4
 },
 "nbformat": 4,
 "nbformat_minor": 2
}
