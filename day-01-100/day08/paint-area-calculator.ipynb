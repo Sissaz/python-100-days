{
 "cells": [
  {
   "cell_type": "code",
   "execution_count": 18,
   "metadata": {},
   "outputs": [],
   "source": [
    "## Paint Area Calculator"
   ]
  },
  {
   "cell_type": "code",
   "execution_count": 3,
   "metadata": {},
   "outputs": [],
   "source": [
    "# Instructions\n",
    "\n",
    "# You are painting a wall. The instructions on the paint can says that **1 can of paint can cover 5 square meters** of wall. Given a random height and width of wall, calculate how many cans of paint you'll need to buy.\n",
    "\n",
    "# number of cans = (wall height ✖️ wall width) ÷ coverage per can. \n",
    "\n",
    "# e.g. Height = 2, Width = 4, Coverage = 5\n",
    "\n",
    "# number of cans = (2 ✖️ 4) ÷ 5 \n",
    "\n",
    "                         # = 1.6\n",
    "\n",
    "# But because you can't buy 0.6 of a can of paint, the **result should be rounded up** to **2** cans. \n",
    "\n",
    "#IMPORTANT: Notice the name of the function and parameters must match those on line 13 for the code to work."
   ]
  },
  {
   "cell_type": "code",
   "execution_count": 9,
   "metadata": {},
   "outputs": [],
   "source": [
    "import math"
   ]
  },
  {
   "cell_type": "code",
   "execution_count": 16,
   "metadata": {},
   "outputs": [],
   "source": [
    "def paint_calc(height, width, cover):\n",
    "    area = (height * width)\n",
    "    num_of_cans = math.ceil(area / cover)\n",
    "    print(f\"The height is {height} and the width is {width} so you'll need {num_of_cans} cans of paint.\")"
   ]
  },
  {
   "cell_type": "code",
   "execution_count": 17,
   "metadata": {},
   "outputs": [
    {
     "name": "stdout",
     "output_type": "stream",
     "text": [
      "The height is 3 and the width is 6 so you'll need 4 cans of paint.\n"
     ]
    }
   ],
   "source": [
    "test_h = int(input(\"Height of wall: \"))\n",
    "test_w = int(input(\"Width of wall: \"))\n",
    "coverage = 5\n",
    "paint_calc(height=test_h, width=test_w, cover=coverage)\n"
   ]
  }
 ],
 "metadata": {
  "interpreter": {
   "hash": "07efdcd4b820c98a756949507a4d29d7862823915ec7477944641bea022f4f62"
  },
  "kernelspec": {
   "display_name": "Python 3.9.7 ('base')",
   "language": "python",
   "name": "python3"
  },
  "language_info": {
   "codemirror_mode": {
    "name": "ipython",
    "version": 3
   },
   "file_extension": ".py",
   "mimetype": "text/x-python",
   "name": "python",
   "nbconvert_exporter": "python",
   "pygments_lexer": "ipython3",
   "version": "3.9.7"
  },
  "orig_nbformat": 4
 },
 "nbformat": 4,
 "nbformat_minor": 2
}
