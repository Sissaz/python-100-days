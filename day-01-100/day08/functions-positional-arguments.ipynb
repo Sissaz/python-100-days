{
 "cells": [
  {
   "cell_type": "code",
   "execution_count": 6,
   "metadata": {},
   "outputs": [],
   "source": [
    "# Dia 8"
   ]
  },
  {
   "cell_type": "code",
   "execution_count": 7,
   "metadata": {},
   "outputs": [
    {
     "name": "stdout",
     "output_type": "stream",
     "text": [
      "Hello!\n",
      "How are you?\n",
      "Isn't the weather nice today?\n"
     ]
    }
   ],
   "source": [
    "# Review: \n",
    "# Create a function called greet(). \n",
    "# Write 3 print statements inside the function.\n",
    "# Call the greet() function and run your code.\n",
    "\n",
    "def greet():\n",
    "\tprint(\"Hello!\")\n",
    "\tprint(\"How are you?\")\n",
    "\tprint(\"Isn't the weather nice today?\")\n",
    "greet()"
   ]
  },
  {
   "cell_type": "code",
   "execution_count": 3,
   "metadata": {},
   "outputs": [
    {
     "name": "stdout",
     "output_type": "stream",
     "text": [
      "Hello Sicilia!\n",
      "How are you, Sicilia?\n",
      "Isn't the weather nice today, Sicilia?\n"
     ]
    }
   ],
   "source": [
    "#Function that allows input\n",
    "\n",
    "name = input(\"Whats your name?\")\n",
    "\n",
    "def greet_with_name(name):\n",
    "\tprint(f\"Hello {name}!\")\n",
    "\tprint(f\"How are you, {name}?\")\n",
    "\tprint(f\"Isn't the weather nice today, {name}?\")\n",
    "\n",
    "greet_with_name(name)"
   ]
  },
  {
   "cell_type": "code",
   "execution_count": 12,
   "metadata": {},
   "outputs": [
    {
     "name": "stdout",
     "output_type": "stream",
     "text": [
      "Hello Sicilia!\n",
      "How are you, Sicilia?\n",
      "Isn't the weather nice today here in Vitória?\n"
     ]
    }
   ],
   "source": [
    "# Functions with more than 1 input\n",
    "\n",
    "name2 = input(\"Whats your name?\")\n",
    "loc = input(\"Where do you live?\")\n",
    "\n",
    "def greet_name_loc(name, loc):\n",
    "\tprint(f\"Hello {name2}!\")\n",
    "\tprint(f\"How are you, {name2}?\")\n",
    "\tprint(f\"Isn't the weather nice today here in {loc}?\")\n",
    "greet_name_loc(name, loc)"
   ]
  },
  {
   "cell_type": "code",
   "execution_count": 10,
   "metadata": {},
   "outputs": [
    {
     "name": "stdout",
     "output_type": "stream",
     "text": [
      "The first letter through the sequence of the function is: 1\n",
      "The second letter through the sequence of the function is: 2\n",
      "The third letter through the sequence of the function is: 3\n",
      "The sequence is c,a,b\n"
     ]
    }
   ],
   "source": [
    "# Positional Arguments\n",
    "# Mesmo as letras estando fora de ordem (c, a, b) elas se comportarão como se c = 1, a = 2 e b = 3;\n",
    "def numeros(c, a, b):\n",
    "\tprint(f\"The first letter through the sequence of the function is: {c}\")\n",
    "\tprint(f\"The second letter through the sequence of the function is: {a}\")\n",
    "\tprint(f\"The third letter through the sequence of the function is: {b}\")\n",
    "\tprint(f\"The sequence is c,a,b\")\n",
    "numeros(1, 2, 3)"
   ]
  },
  {
   "cell_type": "code",
   "execution_count": 13,
   "metadata": {},
   "outputs": [
    {
     "name": "stdout",
     "output_type": "stream",
     "text": [
      "Hello Sicilia!\n",
      "How are you, Sicilia?\n",
      "Isn't the weather nice today here in Vitória?\n"
     ]
    }
   ],
   "source": [
    "# Agora a ordem não importa\n",
    "def greet_with(name, location):\n",
    "\tprint(f\"Hello {name}!\")\n",
    "\tprint(f\"How are you, {name}?\")\n",
    "\tprint(f\"Isn't the weather nice today here in {location}?\")\n",
    "greet_with(location=\"Vitória\", name=\"Sicilia\")"
   ]
  }
 ],
 "metadata": {
  "interpreter": {
   "hash": "07efdcd4b820c98a756949507a4d29d7862823915ec7477944641bea022f4f62"
  },
  "kernelspec": {
   "display_name": "Python 3.9.7 ('base')",
   "language": "python",
   "name": "python3"
  },
  "language_info": {
   "codemirror_mode": {
    "name": "ipython",
    "version": 3
   },
   "file_extension": ".py",
   "mimetype": "text/x-python",
   "name": "python",
   "nbconvert_exporter": "python",
   "pygments_lexer": "ipython3",
   "version": "3.9.7"
  },
  "orig_nbformat": 4
 },
 "nbformat": 4,
 "nbformat_minor": 2
}
