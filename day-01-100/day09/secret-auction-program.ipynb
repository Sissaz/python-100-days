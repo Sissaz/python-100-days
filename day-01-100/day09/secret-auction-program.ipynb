{
 "cells": [
  {
   "cell_type": "code",
   "execution_count": 6,
   "metadata": {},
   "outputs": [],
   "source": [
    "logo = '''\n",
    "                         ___________\n",
    "                         \\         /\n",
    "                          )_______(\n",
    "                          |\"\"\"\"\"\"\"|_.-._,.---------.,_.-._\n",
    "                          |       | | |               | | ''-.\n",
    "                          |       |_| |_             _| |_..-'\n",
    "                          |_______| '-' `'---------'` '-'\n",
    "                          )\"\"\"\"\"\"\"(\n",
    "                         /_________\\\\\n",
    "                       .-------------.\n",
    "                      /_______________\\\\\n",
    "'''"
   ]
  },
  {
   "cell_type": "code",
   "execution_count": 7,
   "metadata": {},
   "outputs": [
    {
     "name": "stdout",
     "output_type": "stream",
     "text": [
      "\n",
      "                         ___________\n",
      "                         \\         /\n",
      "                          )_______(\n",
      "                          |\"\"\"\"\"\"\"|_.-._,.---------.,_.-._\n",
      "                          |       | | |               | | ''-.\n",
      "                          |       |_| |_             _| |_..-'\n",
      "                          |_______| '-' `'---------'` '-'\n",
      "                          )\"\"\"\"\"\"\"(\n",
      "                         /_________\\\n",
      "                       .-------------.\n",
      "                      /_______________\\\n",
      "\n"
     ]
    }
   ],
   "source": [
    "print (logo)"
   ]
  },
  {
   "cell_type": "code",
   "execution_count": 8,
   "metadata": {},
   "outputs": [],
   "source": [
    "bids = {}\n",
    "bidding_finished = False"
   ]
  },
  {
   "cell_type": "code",
   "execution_count": 9,
   "metadata": {},
   "outputs": [],
   "source": [
    "def highest_bidder(bidding_record):\n",
    "\thighest_bid = 0\n",
    "\twinner = \"\"\n",
    "\tfor bidder in bidding_record:\n",
    "\t\tbid_amount = bidding_record[bidder]\n",
    "\t\tif bid_amount > highest_bid:\n",
    "\t\t\thighest_bid = bid_amount\n",
    "\t\t\twinner = bidder\n",
    "\tprint(f\"The winner is {winner} with a bid of ${highest_bid}\")"
   ]
  },
  {
   "cell_type": "code",
   "execution_count": 10,
   "metadata": {},
   "outputs": [
    {
     "name": "stdout",
     "output_type": "stream",
     "text": [
      "The winner is Tissila with a bid of $6900\n"
     ]
    }
   ],
   "source": [
    "def highest_bidder(bidding_record):\n",
    "\thighest_bid = 0\n",
    "\twinner = \"\"\n",
    "\tfor bidder in bidding_record:\n",
    "\t\tbid_amount = bidding_record[bidder]\n",
    "\t\tif bid_amount > highest_bid:\n",
    "\t\t\thighest_bid = bid_amount\n",
    "\t\t\twinner = bidder\n",
    "\tprint(f\"The winner is {winner} with a bid of ${highest_bid}\")\n",
    "\n",
    "while not bidding_finished:\n",
    "\t# Name será a Key\n",
    "\tname = input(\"What is your name?: \")\n",
    "\t\n",
    "\t# Price será o Value\n",
    "\tprice = int(input(\"What is your bid?: $\"))\n",
    "\t\n",
    "\tbids[name] = price\n",
    "\t\n",
    "\tshould_continue = input (\"Are there any other bidders? Type 'yes' or 'no'. \\n\")\n",
    "\t\n",
    "\tif should_continue == \"no\":\n",
    "\t\tbidding_finished = True\n",
    "\t\thighest_bidder(bids)"
   ]
  }
 ],
 "metadata": {
  "interpreter": {
   "hash": "88279d2366fe020547cde40dd65aa0e3aa662a6ec1f3ca12d88834876c85e1a6"
  },
  "kernelspec": {
   "display_name": "Python 3.9.7 ('base')",
   "language": "python",
   "name": "python3"
  },
  "language_info": {
   "codemirror_mode": {
    "name": "ipython",
    "version": 3
   },
   "file_extension": ".py",
   "mimetype": "text/x-python",
   "name": "python",
   "nbconvert_exporter": "python",
   "pygments_lexer": "ipython3",
   "version": "3.9.7"
  },
  "orig_nbformat": 4
 },
 "nbformat": 4,
 "nbformat_minor": 2
}
